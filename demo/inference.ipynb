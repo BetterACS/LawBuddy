{
 "cells": [
  {
   "cell_type": "code",
   "execution_count": 2,
   "metadata": {},
   "outputs": [],
   "source": [
    "from lawbuddy.rag import IterativeQueryChunking\n",
    "\n",
    "pipeline = IterativeQueryChunking.from_openai_model(model=\"gpt-3.5-turbo\")\n",
    "# pipeline.create_vector_store(csv_paths=[\"laws.csv\"], save_dir=\"spaces/iterative_query_chunking\")\n",
    "pipeline.load_vector_store(path=\"spaces/iterative_query_chunking\")"
   ]
  },
  {
   "cell_type": "code",
   "execution_count": 3,
   "metadata": {},
   "outputs": [],
   "source": [
    "query = \"\"\"\n",
    "นายเอกสมรสกับนางโทมีบุตรด้วยกัน 1 คน คือ เด็กหญิงตรี ต่อมานายเอกจดทะเบียนหย่ากับนางโท เด็กหญิงตรีจึง อาศัยอยู่กับนายเอก เมื่อเด็กหญิงตรีอายุ 14 ปี นายเอกพาเด็กหญิงตรีไปเที่ยวที่บ้านนายจัตวาและนอนค้างคืนที่บ้านนายจัตวา หลังจากนายเอกนอนหลับ นายจัตวากระทําชําเราเด็กหญิงตรี วันรุ่งขึ้นเด็กหญิงตรีจึงร้องทุกข์ต่อพนักงานสอบสวนโดยลําพัง\n",
    "เพื่อให้ดําเนินคดีอาญาแก่นายจัตวา ในชั้นสอบสวนการสอบปากคําเด็กหญิงตรีผู้เสียหาย พนักงานสอบสวนจัดให้มีนักจิตวิทยา หรือนักสังคมสงเคราะห์ นายเอกซึ่งเป็นบุคคลที่เด็กหญิงตรีร้องขอและพนักงานอัยการร่วมอยู่ด้วย โดยแยกกระทําเป็นส่วนสัดใน สถานที่ที่เหมาะสมแล้ว แต่พนักงานสอบสวนไม่ได้ตั้งคําถามเด็กหญิงตรีผู้เสียหายผ่านนักจิตวิทยาหรือนักสังคมสงเคราะห์ อีกทั้ง วันรับแจ้งเหตุพนักงานสอบสวนมิได้ส่งตัวเด็กหญิงตรีผู้เสียหายไปตรวจหาร่องรอยการกระทําชําเราเป็นพยานหลักฐานทันที โดยให้แพทย์ตรวจร่างกายเด็กหญิงตรีผู้เสียหายหลังเกิดเหตุ 3 วัน ต่อมาพนักงานสอบสวนสรุปสํานวนส่งไปยังพนักงานอัยการ และพนักงานอัยการฟ้องนายจัตวาเป็นจําเลยต่อศาลขอให้ลงโทษตามประมวลกฎหมายอาญา มาตรา 277\n",
    "ให้วินิจฉัยว่า การร้องทุกข์ของเด็กหญิงตรีผู้เสียหายชอบด้วยกฎหมายหรือไม่ การสอบสวนชอบด้วยกฎหมายหรือไม่ และพนักงานอัยการมีอํานาจฟ้องหรือไม่\n",
    "\"\"\"\n",
    "response = pipeline.query(query)"
   ]
  },
  {
   "cell_type": "code",
   "execution_count": 4,
   "metadata": {},
   "outputs": [
    {
     "name": "stdout",
     "output_type": "stream",
     "text": [
      "การร้องทุกข์ของเด็กหญิงตรีผู้เสียหายชอบด้วยกฎหมาย เนื่องจากเด็กหญิงตรีเป็นเด็กอายุไม่เกินสิบแปดปี และมีความจำเป็นในการชี้ตัวผู้ต้องหา ตามมาตรา 133ตรี ซึ่งได้มีการชี้ตัวผู้ต้องหาในสถานที่ที่เหมาะสมและป้องกันไม่ให้เด็กเห็นตัวผู้ต้องหา\n",
      "\n",
      "การสอบสวนไม่ชอบด้วยกฎหมาย เนื่องจากพนักงานสอบสวนไม่ได้ตั้งคำถามเด็กหญิงตรีผ่านนักจิตวิทยาหรือนักสังคมสงเคราะห์ตามมาตรา 133 ซึ่งเป็นข้อบังคับในการสอบสวน\n",
      "\n",
      "พนักงานอัยการมีอำนาจฟ้อง เนื่องจากได้รับสำนวนการสอบสวนจากพนักงานสอบสวนและมีหลักฐานเพียงพอในการฟ้องนายจัตวาตามมาตรา 20 และ 133 ตรี ข้อ 3 และ 4 ของประมวลกฎหมายวิธีพิจารณาความอาญา\n"
     ]
    }
   ],
   "source": [
    "print(response)"
   ]
  },
  {
   "cell_type": "code",
   "execution_count": 5,
   "metadata": {},
   "outputs": [
    {
     "data": {
      "application/vnd.jupyter.widget-view+json": {
       "model_id": "205306cb802f4fb9979bcfd74cb01fd1",
       "version_major": 2,
       "version_minor": 0
      },
      "text/plain": [
       "Loading checkpoint shards:   0%|          | 0/4 [00:00<?, ?it/s]"
      ]
     },
     "metadata": {},
     "output_type": "display_data"
    }
   ],
   "source": [
    "from transformers import AutoModelForCausalLM, AutoTokenizer\n",
    "\n",
    "model = AutoModelForCausalLM.from_pretrained(\"openthaigpt/openthaigpt1.5-7b-instruct\")\n",
    "tokenizer = AutoTokenizer.from_pretrained(\"openthaigpt/openthaigpt1.5-7b-instruct\")\n",
    "model.load_adapter(\"betteracs/lawbuddy-7b\")\n"
   ]
  },
  {
   "cell_type": "code",
   "execution_count": 9,
   "metadata": {},
   "outputs": [],
   "source": [
    "pipeline = IterativeQueryChunking.from_local_model(model_name=\"openthaigpt/openthaigpt1.5-7b-instruct\", model=model)\n",
    "# pipeline.create_vector_store(csv_paths=[\"laws.csv\"], save_dir=\"spaces/iterative_query_chunking\")\n",
    "pipeline.load_vector_store(path=\"spaces/iterative_query_chunking\")"
   ]
  },
  {
   "cell_type": "code",
   "execution_count": null,
   "metadata": {},
   "outputs": [],
   "source": [
    "response = pipeline.query(query)"
   ]
  }
 ],
 "metadata": {
  "kernelspec": {
   "display_name": "llm",
   "language": "python",
   "name": "python3"
  },
  "language_info": {
   "codemirror_mode": {
    "name": "ipython",
    "version": 3
   },
   "file_extension": ".py",
   "mimetype": "text/x-python",
   "name": "python",
   "nbconvert_exporter": "python",
   "pygments_lexer": "ipython3",
   "version": "3.12.4"
  }
 },
 "nbformat": 4,
 "nbformat_minor": 2
}
